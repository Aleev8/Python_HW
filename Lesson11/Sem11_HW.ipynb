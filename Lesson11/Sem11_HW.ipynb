{
  "nbformat": 4,
  "nbformat_minor": 0,
  "metadata": {
    "colab": {
      "provenance": [],
      "authorship_tag": "ABX9TyO9RU59hlUVgXZci2atwPyr",
      "include_colab_link": true
    },
    "kernelspec": {
      "name": "python3",
      "display_name": "Python 3"
    },
    "language_info": {
      "name": "python"
    }
  },
  "cells": [
    {
      "cell_type": "markdown",
      "metadata": {
        "id": "view-in-github",
        "colab_type": "text"
      },
      "source": [
        "<a href=\"https://colab.research.google.com/github/Aleev8/Python_HW/blob/main/Sem11_HW.ipynb\" target=\"_parent\"><img src=\"https://colab.research.google.com/assets/colab-badge.svg\" alt=\"Open In Colab\"/></a>"
      ]
    },
    {
      "cell_type": "markdown",
      "source": [
        "Урок 11. Jupyter Notebook и несколько слов об аналитике \\\n",
        "Дана функция: **f(x) = -12x^4*sin(cos(x)) - 18x^3+5x^2 + 10x - 30**\n",
        "1. Определить корни\n",
        "2. Найти интервалы, на которых функция возрастает\n",
        "3. Найти интервалы, на которых функция убывает\n",
        "4. Построить график\n",
        "5. Вычислить вершину\n",
        "6. Определить промежутки, на котором f > 0\n",
        "7. Определить промежутки, на котором f < 0"
      ],
      "metadata": {
        "id": "_M1HYsHzVKED"
      }
    },
    {
      "cell_type": "code",
      "source": [
        "import sympy\n",
        "import matplotlib.pyplot as plt\n",
        "import numpy as np\n",
        "from sympy import solveset\n",
        "from sympy import sin, cos, pi"
      ],
      "metadata": {
        "id": "RC8HoMAoUdN9"
      },
      "execution_count": 10,
      "outputs": []
    },
    {
      "cell_type": "code",
      "source": [
        "x = sympy.symbols('x')"
      ],
      "metadata": {
        "id": "OaubXtL_ePgR"
      },
      "execution_count": 11,
      "outputs": []
    },
    {
      "cell_type": "code",
      "source": [
        "f = -12*(x**4)*sin(cos(x)) - 18*x**3 + 5*x**2 + 10*x - 30"
      ],
      "metadata": {
        "id": "jSVV8JbOUh4r"
      },
      "execution_count": 12,
      "outputs": []
    },
    {
      "cell_type": "code",
      "source": [
        "roots = solveset(f)"
      ],
      "metadata": {
        "id": "3EKxpspAUibL"
      },
      "execution_count": 14,
      "outputs": []
    },
    {
      "cell_type": "code",
      "source": [
        "roots"
      ],
      "metadata": {
        "colab": {
          "base_uri": "https://localhost:8080/",
          "height": 38
        },
        "id": "y4MJs4oPUkEe",
        "outputId": "30234b3e-a852-40f0-bb22-2232885482c4"
      },
      "execution_count": 15,
      "outputs": [
        {
          "output_type": "execute_result",
          "data": {
            "text/plain": [
              "ConditionSet(x, Eq(-12*x**4*sin(cos(x)) - 18*x**3 + 5*x**2 + 10*x - 30, 0), Complexes)"
            ],
            "text/latex": "$\\displaystyle \\left\\{x \\mid x \\in \\mathbb{C} \\wedge - 12 x^{4} \\sin{\\left(\\cos{\\left(x \\right)} \\right)} - 18 x^{3} + 5 x^{2} + 10 x - 30 = 0 \\right\\}$"
          },
          "metadata": {},
          "execution_count": 15
        }
      ]
    },
    {
      "cell_type": "code",
      "source": [
        "x = np.arange(-5, 5, 0.01)"
      ],
      "metadata": {
        "id": "LuG0VzqjUlHR"
      },
      "execution_count": 16,
      "outputs": []
    },
    {
      "cell_type": "code",
      "source": [
        "f = f = -12*(x**4)*np.sin(np.cos(x)) - 18*x**3 + 5*x**2 + 10*x - 30"
      ],
      "metadata": {
        "id": "Ohxfp0qOUoQR"
      },
      "execution_count": 17,
      "outputs": []
    },
    {
      "cell_type": "code",
      "source": [
        "plt.plot(x,f)\n",
        "plt.grid()"
      ],
      "metadata": {
        "colab": {
          "base_uri": "https://localhost:8080/",
          "height": 265
        },
        "id": "zGvxO3YuUpOg",
        "outputId": "2dca40ea-5f52-4fe4-a6b3-c1cdcf83113d"
      },
      "execution_count": 25,
      "outputs": [
        {
          "output_type": "display_data",
          "data": {
            "text/plain": [
              "<Figure size 432x288 with 1 Axes>"
            ],
            "image/png": "[encoded data removed]"
          },
          "metadata": {
            "needs_background": "light"
          }
        }
      ]
    },
    {
      "cell_type": "markdown",
      "source": [
        "Рассмотрен проммежуток: **(-6; 6)**\n",
        "\n",
        "Функция возрастает на промежутках: **f (-6;-4,2), (1,4;3,8)**\n",
        "\n",
        "Функция убывает на промежутках: **f (-4,2;-1,6), (3,8;5)**\n",
        "\n",
        "x = **-4,2 max (вершина)**\n",
        "\n",
        "x = **5 min (вершина)**\n",
        "\n",
        "Функция больше нуля на промежутке: **(-6; -1,7), (2,3;4,8)**\n",
        "\n",
        "Функция меньше нуля на промежутке: **(-1,7;2,3), (4,8;5,3)**"
      ],
      "metadata": {
        "id": "Ms6og7VpVE6f"
      }
    }
  ]
}